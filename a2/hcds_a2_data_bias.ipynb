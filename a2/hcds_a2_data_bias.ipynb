{
  "nbformat": 4,
  "nbformat_minor": 0,
  "metadata": {
    "colab": {
      "name": "[DATA5112A]hcds-a2-data-bias.ipynb",
      "provenance": [],
      "collapsed_sections": []
    },
    "kernelspec": {
      "name": "python3",
      "display_name": "Python 3"
    }
  },
  "cells": [
    {
      "cell_type": "markdown",
      "metadata": {
        "id": "x2QvZ5ho6cZ9"
      },
      "source": [
        "# Download Dataset\n",
        "\n",
        "Toxicity, aggression, and personal attacks datasets are available in following links.\n",
        "- [Toxicity](https://figshare.com/articles/dataset/Wikipedia_Talk_Labels_Toxicity/4563973)\n",
        "- [Aggression](https://figshare.com/articles/dataset/Wikipedia_Talk_Labels_Aggression/4267550)\n",
        "- [Personal Attacks](https://figshare.com/articles/dataset/Wikipedia_Talk_Labels_Personal_Attacks/4054689)\n",
        "\n",
        "In case these links are unavailable, the download datasets are included in `a2/data` directory.\n"
      ]
    },
    {
      "cell_type": "code",
      "metadata": {
        "id": "ve8AMpl7AO_q",
        "outputId": "7fccd0d8-9ce8-4acc-8d35-42142e885e9e",
        "colab": {
          "base_uri": "https://localhost:8080/",
          "height": 173
        }
      },
      "source": [
        "!curl -C - https://ndownloader.figshare.com/articles/4563973/versions/2 --create-dirs -o data/4563973.zip\n",
        "!curl -C - https://ndownloader.figshare.com/articles/4267550/versions/5 --create-dirs -o data/4267550.zip\n",
        "!curl -C - https://ndownloader.figshare.com/articles/4054689/versions/6 --create-dirs -o data/4054689.zip"
      ],
      "execution_count": 1,
      "outputs": [
        {
          "output_type": "stream",
          "text": [
            "  % Total    % Received % Xferd  Average Speed   Time    Time     Time  Current\n",
            "                                 Dload  Upload   Total   Spent    Left  Speed\n",
            "100  109M  100  109M    0     0  60.2M      0  0:00:01  0:00:01 --:--:-- 60.2M\n",
            "  % Total    % Received % Xferd  Average Speed   Time    Time     Time  Current\n",
            "                                 Dload  Upload   Total   Spent    Left  Speed\n",
            "100 84.6M  100 84.6M    0     0  61.8M      0  0:00:01  0:00:01 --:--:-- 61.8M\n",
            "  % Total    % Received % Xferd  Average Speed   Time    Time     Time  Current\n",
            "                                 Dload  Upload   Total   Spent    Left  Speed\n",
            "100  100M  100  100M    0     0  68.3M      0  0:00:01  0:00:01 --:--:-- 68.3M\n"
          ],
          "name": "stdout"
        }
      ]
    },
    {
      "cell_type": "markdown",
      "metadata": {
        "id": "uS8Vqp76ChDB"
      },
      "source": [
        "These downloaded datasets are `.zip` files, and these are extracted with following command."
      ]
    },
    {
      "cell_type": "code",
      "metadata": {
        "id": "FYy6ggu3CN-A",
        "outputId": "eae0a755-597b-454e-d6d7-04b7378c6c1c",
        "colab": {
          "base_uri": "https://localhost:8080/",
          "height": 295
        }
      },
      "source": [
        "!unzip \"data/*.zip\" -d data/"
      ],
      "execution_count": 2,
      "outputs": [
        {
          "output_type": "stream",
          "text": [
            "Archive:  data/4267550.zip\n",
            " extracting: data/aggression_annotated_comments.tsv  \n",
            " extracting: data/aggression_annotations.tsv  \n",
            " extracting: data/aggression_worker_demographics.tsv  \n",
            "\n",
            "Archive:  data/4563973.zip\n",
            " extracting: data/toxicity_annotations.tsv  \n",
            " extracting: data/toxicity_annotated_comments.tsv  \n",
            " extracting: data/toxicity_worker_demographics.tsv  \n",
            "\n",
            "Archive:  data/4054689.zip\n",
            " extracting: data/attack_annotated_comments.tsv  \n",
            " extracting: data/attack_annotations.tsv  \n",
            " extracting: data/attack_worker_demographics.tsv  \n",
            "\n",
            "3 archives were successfully processed.\n"
          ],
          "name": "stdout"
        }
      ]
    },
    {
      "cell_type": "markdown",
      "metadata": {
        "id": "m8MQYX2o7-CM"
      },
      "source": [
        "## Import packages"
      ]
    },
    {
      "cell_type": "code",
      "metadata": {
        "id": "RYqXsUaK-aJt"
      },
      "source": [
        "import pandas as pd\n",
        "import seaborn as sns\n",
        "import matplotlib.pyplot as plt"
      ],
      "execution_count": 3,
      "outputs": []
    },
    {
      "cell_type": "markdown",
      "metadata": {
        "id": "w1A8pwmE7ueX"
      },
      "source": [
        "# Step 1: Analysis"
      ]
    },
    {
      "cell_type": "markdown",
      "metadata": {
        "id": "r-USdas88Hm9"
      },
      "source": [
        "## Analysis 1: Personal Attacks"
      ]
    },
    {
      "cell_type": "markdown",
      "metadata": {
        "id": "BFBOtR8_8Ti3"
      },
      "source": [
        "### Read Personal Attacks dataset"
      ]
    },
    {
      "cell_type": "code",
      "metadata": {
        "id": "NGLs-eU77vzW"
      },
      "source": [
        "attack_annotated_comments = pd.read_csv('data/attack_annotated_comments.tsv', sep='\\t', header=0)\n",
        "attack_annotations = pd.read_csv('data/attack_annotations.tsv', sep='\\t', header=0)\n",
        "attack_worker_demographics = pd.read_csv('data/attack_worker_demographics.tsv', sep='\\t', header=0)"
      ],
      "execution_count": 4,
      "outputs": []
    },
    {
      "cell_type": "code",
      "metadata": {
        "id": "7Rnwx31aEUck",
        "outputId": "7d7fd9ad-6f2b-44f8-d972-0ab0462126c9",
        "colab": {
          "base_uri": "https://localhost:8080/",
          "height": 206
        }
      },
      "source": [
        "attack_worker_demographics.head()"
      ],
      "execution_count": 5,
      "outputs": [
        {
          "output_type": "execute_result",
          "data": {
            "text/html": [
              "<div>\n",
              "<style scoped>\n",
              "    .dataframe tbody tr th:only-of-type {\n",
              "        vertical-align: middle;\n",
              "    }\n",
              "\n",
              "    .dataframe tbody tr th {\n",
              "        vertical-align: top;\n",
              "    }\n",
              "\n",
              "    .dataframe thead th {\n",
              "        text-align: right;\n",
              "    }\n",
              "</style>\n",
              "<table border=\"1\" class=\"dataframe\">\n",
              "  <thead>\n",
              "    <tr style=\"text-align: right;\">\n",
              "      <th></th>\n",
              "      <th>worker_id</th>\n",
              "      <th>gender</th>\n",
              "      <th>english_first_language</th>\n",
              "      <th>age_group</th>\n",
              "      <th>education</th>\n",
              "    </tr>\n",
              "  </thead>\n",
              "  <tbody>\n",
              "    <tr>\n",
              "      <th>0</th>\n",
              "      <td>833</td>\n",
              "      <td>female</td>\n",
              "      <td>0</td>\n",
              "      <td>45-60</td>\n",
              "      <td>bachelors</td>\n",
              "    </tr>\n",
              "    <tr>\n",
              "      <th>1</th>\n",
              "      <td>1072</td>\n",
              "      <td>male</td>\n",
              "      <td>0</td>\n",
              "      <td>30-45</td>\n",
              "      <td>bachelors</td>\n",
              "    </tr>\n",
              "    <tr>\n",
              "      <th>2</th>\n",
              "      <td>872</td>\n",
              "      <td>male</td>\n",
              "      <td>0</td>\n",
              "      <td>18-30</td>\n",
              "      <td>hs</td>\n",
              "    </tr>\n",
              "    <tr>\n",
              "      <th>3</th>\n",
              "      <td>2116</td>\n",
              "      <td>male</td>\n",
              "      <td>0</td>\n",
              "      <td>30-45</td>\n",
              "      <td>professional</td>\n",
              "    </tr>\n",
              "    <tr>\n",
              "      <th>4</th>\n",
              "      <td>453</td>\n",
              "      <td>male</td>\n",
              "      <td>0</td>\n",
              "      <td>30-45</td>\n",
              "      <td>hs</td>\n",
              "    </tr>\n",
              "  </tbody>\n",
              "</table>\n",
              "</div>"
            ],
            "text/plain": [
              "   worker_id  gender  english_first_language age_group     education\n",
              "0        833  female                       0     45-60     bachelors\n",
              "1       1072    male                       0     30-45     bachelors\n",
              "2        872    male                       0     18-30            hs\n",
              "3       2116    male                       0     30-45  professional\n",
              "4        453    male                       0     30-45            hs"
            ]
          },
          "metadata": {
            "tags": []
          },
          "execution_count": 5
        }
      ]
    },
    {
      "cell_type": "markdown",
      "metadata": {
        "id": "gpC_JCyUM7nv"
      },
      "source": [
        "### Analyze distribution of workers\n",
        " \t\n",
        "Analyze the demographic information about the Crowdflower workers that is available in the Personal Attacks dataset\n",
        "\n",
        "We want to see if the workers are biased, which would result in biased labels. Therefore, we try to analyze the demographics of the workers - gender, education, and whether english is their first language."
      ]
    },
    {
      "cell_type": "code",
      "metadata": {
        "id": "d711_XABEjiy",
        "outputId": "4c045078-fae5-4d96-9649-583eb4f49da3",
        "colab": {
          "base_uri": "https://localhost:8080/",
          "height": 369
        }
      },
      "source": [
        "gender_hist = sns.displot(attack_worker_demographics, x='gender', stat='density')\n",
        "gender_hist.savefig(\"PA_gender_hist.png\")"
      ],
      "execution_count": 6,
      "outputs": [
        {
          "output_type": "display_data",
          "data": {
            "image/png": "[encoded data removed]",
            "text/plain": [
              "<Figure size 360x360 with 1 Axes>"
            ]
          },
          "metadata": {
            "tags": [],
            "needs_background": "light"
          }
        }
      ]
    },
    {
      "cell_type": "code",
      "metadata": {
        "id": "vslGOIPUGAZt",
        "outputId": "a3fc9563-0120-4b35-a6da-11224e4d540c",
        "colab": {
          "base_uri": "https://localhost:8080/",
          "height": 369
        }
      },
      "source": [
        "english_hist = sns.displot(attack_worker_demographics, x='english_first_language')\n",
        "english_hist.savefig(\"PA_english_hist.png\")"
      ],
      "execution_count": 7,
      "outputs": [
        {
          "output_type": "display_data",
          "data": {
            "image/png": "[encoded data removed]",
            "text/plain": [
              "<Figure size 360x360 with 1 Axes>"
            ]
          },
          "metadata": {
            "tags": [],
            "needs_background": "light"
          }
        }
      ]
    },
    {
      "cell_type": "code",
      "metadata": {
        "id": "GL0xi6_xGiVr",
        "outputId": "f5c6c890-1c8e-4b54-fe1d-8d0615267abb",
        "colab": {
          "base_uri": "https://localhost:8080/",
          "height": 279
        }
      },
      "source": [
        "education_hist = sns.countplot(data=attack_worker_demographics, x='education', order=['hs', 'bachelors', 'professional', 'masters', 'doctorate', 'none', 'some education'])\n",
        "education_hist.figure.savefig(\"PA_education_hist.png\")"
      ],
      "execution_count": 8,
      "outputs": [
        {
          "output_type": "display_data",
          "data": {
            "image/png": "[encoded data removed]",
            "text/plain": [
              "<Figure size 432x288 with 1 Axes>"
            ]
          },
          "metadata": {
            "tags": [],
            "needs_background": "light"
          }
        }
      ]
    },
    {
      "cell_type": "code",
      "metadata": {
        "id": "WJmB5SdPYuCX",
        "outputId": "3e49d243-832b-4c35-b464-3dd8b32fcc77",
        "colab": {
          "base_uri": "https://localhost:8080/",
          "height": 279
        }
      },
      "source": [
        "age_group_count = sns.countplot(data=attack_worker_demographics, x=\"age_group\", order=['Under 18', '18-30', '30-45', '45-60', 'Over 60'])\n",
        "age_group_count.figure.savefig('PA_age_group_hist')"
      ],
      "execution_count": 9,
      "outputs": [
        {
          "output_type": "display_data",
          "data": {
            "image/png": "[encoded data removed]",
            "text/plain": [
              "<Figure size 432x288 with 1 Axes>"
            ]
          },
          "metadata": {
            "tags": [],
            "needs_background": "light"
          }
        }
      ]
    },
    {
      "cell_type": "markdown",
      "metadata": {
        "id": "U1b7TFXGM-22"
      },
      "source": [
        "## Analysis 2: Aggression"
      ]
    },
    {
      "cell_type": "markdown",
      "metadata": {
        "id": "6F4RwisGNQdp"
      },
      "source": [
        "### Read Aggression dataset"
      ]
    },
    {
      "cell_type": "code",
      "metadata": {
        "id": "Z5iFCU7_NTmw"
      },
      "source": [
        "aggression_annotated_comments = pd.read_csv('data/aggression_annotated_comments.tsv', sep='\\t', header=0)\n",
        "aggression_annotations = pd.read_csv('data/aggression_annotations.tsv', sep='\\t', header=0)\n",
        "aggression_worker_demographics = pd.read_csv('data/aggression_worker_demographics.tsv', sep='\\t', header=0)"
      ],
      "execution_count": 10,
      "outputs": []
    },
    {
      "cell_type": "markdown",
      "metadata": {
        "id": "aYEJ-4YRXxHg"
      },
      "source": [
        "Make sure we have read the dataset correctly"
      ]
    },
    {
      "cell_type": "code",
      "metadata": {
        "id": "8nPePDTtXwfI",
        "outputId": "833d03bf-3410-430b-beaa-461840d9adcf",
        "colab": {
          "base_uri": "https://localhost:8080/",
          "height": 206
        }
      },
      "source": [
        "aggression_annotations.head()"
      ],
      "execution_count": 11,
      "outputs": [
        {
          "output_type": "execute_result",
          "data": {
            "text/html": [
              "<div>\n",
              "<style scoped>\n",
              "    .dataframe tbody tr th:only-of-type {\n",
              "        vertical-align: middle;\n",
              "    }\n",
              "\n",
              "    .dataframe tbody tr th {\n",
              "        vertical-align: top;\n",
              "    }\n",
              "\n",
              "    .dataframe thead th {\n",
              "        text-align: right;\n",
              "    }\n",
              "</style>\n",
              "<table border=\"1\" class=\"dataframe\">\n",
              "  <thead>\n",
              "    <tr style=\"text-align: right;\">\n",
              "      <th></th>\n",
              "      <th>rev_id</th>\n",
              "      <th>worker_id</th>\n",
              "      <th>aggression</th>\n",
              "      <th>aggression_score</th>\n",
              "    </tr>\n",
              "  </thead>\n",
              "  <tbody>\n",
              "    <tr>\n",
              "      <th>0</th>\n",
              "      <td>37675</td>\n",
              "      <td>1362</td>\n",
              "      <td>1.0</td>\n",
              "      <td>-1.0</td>\n",
              "    </tr>\n",
              "    <tr>\n",
              "      <th>1</th>\n",
              "      <td>37675</td>\n",
              "      <td>2408</td>\n",
              "      <td>0.0</td>\n",
              "      <td>1.0</td>\n",
              "    </tr>\n",
              "    <tr>\n",
              "      <th>2</th>\n",
              "      <td>37675</td>\n",
              "      <td>1493</td>\n",
              "      <td>0.0</td>\n",
              "      <td>0.0</td>\n",
              "    </tr>\n",
              "    <tr>\n",
              "      <th>3</th>\n",
              "      <td>37675</td>\n",
              "      <td>1439</td>\n",
              "      <td>0.0</td>\n",
              "      <td>0.0</td>\n",
              "    </tr>\n",
              "    <tr>\n",
              "      <th>4</th>\n",
              "      <td>37675</td>\n",
              "      <td>170</td>\n",
              "      <td>0.0</td>\n",
              "      <td>0.0</td>\n",
              "    </tr>\n",
              "  </tbody>\n",
              "</table>\n",
              "</div>"
            ],
            "text/plain": [
              "   rev_id  worker_id  aggression  aggression_score\n",
              "0   37675       1362         1.0              -1.0\n",
              "1   37675       2408         0.0               1.0\n",
              "2   37675       1493         0.0               0.0\n",
              "3   37675       1439         0.0               0.0\n",
              "4   37675        170         0.0               0.0"
            ]
          },
          "metadata": {
            "tags": []
          },
          "execution_count": 11
        }
      ]
    },
    {
      "cell_type": "code",
      "metadata": {
        "id": "qIsHYbthZ3Jm",
        "outputId": "9313a92a-14a1-41d4-c09a-c17b29ab8ff6",
        "colab": {
          "base_uri": "https://localhost:8080/",
          "height": 206
        }
      },
      "source": [
        "aggression_worker_demographics.head()"
      ],
      "execution_count": 12,
      "outputs": [
        {
          "output_type": "execute_result",
          "data": {
            "text/html": [
              "<div>\n",
              "<style scoped>\n",
              "    .dataframe tbody tr th:only-of-type {\n",
              "        vertical-align: middle;\n",
              "    }\n",
              "\n",
              "    .dataframe tbody tr th {\n",
              "        vertical-align: top;\n",
              "    }\n",
              "\n",
              "    .dataframe thead th {\n",
              "        text-align: right;\n",
              "    }\n",
              "</style>\n",
              "<table border=\"1\" class=\"dataframe\">\n",
              "  <thead>\n",
              "    <tr style=\"text-align: right;\">\n",
              "      <th></th>\n",
              "      <th>worker_id</th>\n",
              "      <th>gender</th>\n",
              "      <th>english_first_language</th>\n",
              "      <th>age_group</th>\n",
              "      <th>education</th>\n",
              "    </tr>\n",
              "  </thead>\n",
              "  <tbody>\n",
              "    <tr>\n",
              "      <th>0</th>\n",
              "      <td>833</td>\n",
              "      <td>female</td>\n",
              "      <td>0</td>\n",
              "      <td>45-60</td>\n",
              "      <td>bachelors</td>\n",
              "    </tr>\n",
              "    <tr>\n",
              "      <th>1</th>\n",
              "      <td>1072</td>\n",
              "      <td>male</td>\n",
              "      <td>0</td>\n",
              "      <td>30-45</td>\n",
              "      <td>bachelors</td>\n",
              "    </tr>\n",
              "    <tr>\n",
              "      <th>2</th>\n",
              "      <td>872</td>\n",
              "      <td>male</td>\n",
              "      <td>0</td>\n",
              "      <td>18-30</td>\n",
              "      <td>hs</td>\n",
              "    </tr>\n",
              "    <tr>\n",
              "      <th>3</th>\n",
              "      <td>2116</td>\n",
              "      <td>male</td>\n",
              "      <td>0</td>\n",
              "      <td>30-45</td>\n",
              "      <td>professional</td>\n",
              "    </tr>\n",
              "    <tr>\n",
              "      <th>4</th>\n",
              "      <td>453</td>\n",
              "      <td>male</td>\n",
              "      <td>0</td>\n",
              "      <td>30-45</td>\n",
              "      <td>hs</td>\n",
              "    </tr>\n",
              "  </tbody>\n",
              "</table>\n",
              "</div>"
            ],
            "text/plain": [
              "   worker_id  gender  english_first_language age_group     education\n",
              "0        833  female                       0     45-60     bachelors\n",
              "1       1072    male                       0     30-45     bachelors\n",
              "2        872    male                       0     18-30            hs\n",
              "3       2116    male                       0     30-45  professional\n",
              "4        453    male                       0     30-45            hs"
            ]
          },
          "metadata": {
            "tags": []
          },
          "execution_count": 12
        }
      ]
    },
    {
      "cell_type": "markdown",
      "metadata": {
        "id": "G5Cg9vLgZre7"
      },
      "source": [
        "Join two datasets for analyzing worker demographics and labeling behavior."
      ]
    },
    {
      "cell_type": "code",
      "metadata": {
        "id": "6VK5lo8KZrOC"
      },
      "source": [
        "merged_df = pd.merge(aggression_annotations, aggression_worker_demographics, how='inner', on='worker_id')"
      ],
      "execution_count": 13,
      "outputs": []
    },
    {
      "cell_type": "markdown",
      "metadata": {
        "id": "XpcyE1_bXYD1"
      },
      "source": [
        "### Explore relationships between worker demographics and labeling behavior"
      ]
    },
    {
      "cell_type": "markdown",
      "metadata": {
        "id": "iWyGOkdBakD3"
      },
      "source": [
        "First, we explore the overall score distribution without any conditioning."
      ]
    },
    {
      "cell_type": "code",
      "metadata": {
        "id": "EIQ08k6eTI8w",
        "outputId": "91c1d16d-62a7-4f8a-a8ff-700542459895",
        "colab": {
          "base_uri": "https://localhost:8080/",
          "height": 369
        }
      },
      "source": [
        "aggression_score_hist = sns.displot(aggression_annotations, x='aggression_score')\n",
        "aggression_score_hist.savefig(\"AG_score_hist.png\")"
      ],
      "execution_count": 14,
      "outputs": [
        {
          "output_type": "display_data",
          "data": {
            "image/png": "[encoded data removed]",
            "text/plain": [
              "<Figure size 360x360 with 1 Axes>"
            ]
          },
          "metadata": {
            "tags": [],
            "needs_background": "light"
          }
        }
      ]
    },
    {
      "cell_type": "markdown",
      "metadata": {
        "id": "UslAdjY4a8tX"
      },
      "source": [
        "Here, when `common_norm=False` is not provided, the density is calculated to the entire distribution, which is not what we want. Since we want to be normalized by conditional distribution, we provide `common_norm=False` flag."
      ]
    },
    {
      "cell_type": "code",
      "metadata": {
        "id": "9CeiuQo4XuKK",
        "outputId": "1508d0f7-7157-4aa8-e038-7ea00ef5fe94",
        "colab": {
          "base_uri": "https://localhost:8080/",
          "height": 369
        }
      },
      "source": [
        "aggression_score_gender = sns.displot(merged_df, x=\"aggression_score\", hue=\"gender\", stat=\"density\", common_norm=False)\n",
        "aggression_score_gender.savefig(\"AG_aggression_score_by_gender.png\")"
      ],
      "execution_count": 15,
      "outputs": [
        {
          "output_type": "display_data",
          "data": {
            "image/png": "[encoded data removed]",
            "text/plain": [
              "<Figure size 430.5x360 with 1 Axes>"
            ]
          },
          "metadata": {
            "tags": [],
            "needs_background": "light"
          }
        }
      ]
    },
    {
      "cell_type": "markdown",
      "metadata": {
        "id": "iFoOcUP_cVBA"
      },
      "source": [
        "We can also see the average aggression score here."
      ]
    },
    {
      "cell_type": "code",
      "metadata": {
        "id": "4DTz7jVkb8_t",
        "outputId": "37f5bcb6-9368-4f11-cc47-6fbaa1ee7c96",
        "colab": {
          "base_uri": "https://localhost:8080/",
          "height": 104
        }
      },
      "source": [
        "merged_df.groupby('gender')['aggression_score'].mean()"
      ],
      "execution_count": 16,
      "outputs": [
        {
          "output_type": "execute_result",
          "data": {
            "text/plain": [
              "gender\n",
              "female   -0.232734\n",
              "male     -0.163730\n",
              "other    -0.566265\n",
              "Name: aggression_score, dtype: float64"
            ]
          },
          "metadata": {
            "tags": []
          },
          "execution_count": 16
        }
      ]
    },
    {
      "cell_type": "markdown",
      "metadata": {
        "id": "PzlNnVbCbeLb"
      },
      "source": [
        "It seems that we have a lower aggression score for female worker than that of male worker. However, in order to see if this is statistically significant, we would want to perform statistical testing."
      ]
    },
    {
      "cell_type": "markdown",
      "metadata": {
        "id": "JGUal8I67xe7"
      },
      "source": [
        "# Step 2: Further implications"
      ]
    },
    {
      "cell_type": "markdown",
      "metadata": {
        "id": "easKip1KNgX6"
      },
      "source": [
        "##  Q1\n",
        "**Which, if any, of these demo applications would you expect the Perspective API to perform poorly in? Why?**\n",
        "\n",
        "I believe the applications trained on this Wikimedia dataset would work poorly on other langauges other than English. In addition, since the corpus is about discussions in Wikipedia articles, it would not work well on other domains such as *chatbot, emails, or product reviews*. This is because the models depend heavily on the domain of the corpus. Since the domain of the corpus is discussions in Wikipedia articles, it would not work well on other domains. In order to improve the performance on other domains, one should collect more data on other domain."
      ]
    },
    {
      "cell_type": "markdown",
      "metadata": {
        "id": "uRj1Vi02eIUe"
      },
      "source": [
        "## Q2\n",
        "**Which, if any, of these demo applications would you expect the Perspective API—or any model trained on the Wikipedia Talk corpus—to perform well in? Why?**\n",
        "\n",
        "I belive the demo applications would work well in the Wikipedia domain, exactly where the dataset is extracted. This is because the trained models generally work well on the same domain that the model is trained on. Additionally, if there is a similar domain with the Wikepedia Talk corpus, the model would work quite well in a similar domain such as comments in other articles."
      ]
    },
    {
      "cell_type": "markdown",
      "metadata": {
        "id": "qZ3UiHBEeLuB"
      },
      "source": [
        "## Q3\n",
        "**Imagine you are one of the Google data scientists who maintains the Perspective API. If you wanted to improve the model or the API itself to make it work better for any of these purposes, how should they go about doing that?**\n",
        "As discussed previously, the models work well on specific domain trained on exactly the same corpus. If I were to improve the generality of the API, I would make API to first identify the domain, then do an inference on that identified domain (e.g. predict toxicity on emails). This hierarchical analysis would make the API perform better."
      ]
    }
  ]
}